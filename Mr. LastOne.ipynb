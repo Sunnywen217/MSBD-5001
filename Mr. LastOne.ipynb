{
 "cells": [
  {
   "cell_type": "markdown",
   "metadata": {},
   "source": [
    "In this project, I have used libraries like datetime, pandas, numpy, sklearn and xgboost"
   ]
  },
  {
   "cell_type": "code",
   "execution_count": 15,
   "metadata": {},
   "outputs": [],
   "source": [
    "import numpy as np\n",
    "import pandas as pd\n",
    "import time\n",
    "import datetime\n",
    "import warnings\n",
    "warnings.filterwarnings('ignore')\n",
    "from sklearn.model_selection import GridSearchCV, cross_validate\n",
    "from sklearn.ensemble import GradientBoostingClassifier, RandomForestClassifier\n",
    "import xgboost as xgb\n",
    "from datetime import timedelta  \n",
    "from sklearn.preprocessing import MinMaxScaler\n",
    "from sklearn.model_selection import train_test_split"
   ]
  },
  {
   "cell_type": "markdown",
   "metadata": {},
   "source": [
    "First, read the data from train and test and append test to train for preprocessing.\n",
    "Change the date column to a unified date type.\n",
    "Replace null values in reviews with mean value."
   ]
  },
  {
   "cell_type": "code",
   "execution_count": 4,
   "metadata": {},
   "outputs": [
    {
     "name": "stdout",
     "output_type": "stream",
     "text": [
      "categories                False\n",
      "genres                    False\n",
      "id                        False\n",
      "is_free                   False\n",
      "playtime_forever           True\n",
      "price                     False\n",
      "purchase_date             False\n",
      "release_date              False\n",
      "tags                      False\n",
      "total_negative_reviews    False\n",
      "total_positive_reviews    False\n",
      "dtype: bool\n"
     ]
    },
    {
     "data": {
      "text/html": [
       "<div>\n",
       "<style scoped>\n",
       "    .dataframe tbody tr th:only-of-type {\n",
       "        vertical-align: middle;\n",
       "    }\n",
       "\n",
       "    .dataframe tbody tr th {\n",
       "        vertical-align: top;\n",
       "    }\n",
       "\n",
       "    .dataframe thead th {\n",
       "        text-align: right;\n",
       "    }\n",
       "</style>\n",
       "<table border=\"1\" class=\"dataframe\">\n",
       "  <thead>\n",
       "    <tr style=\"text-align: right;\">\n",
       "      <th></th>\n",
       "      <th>categories</th>\n",
       "      <th>genres</th>\n",
       "      <th>id</th>\n",
       "      <th>is_free</th>\n",
       "      <th>playtime_forever</th>\n",
       "      <th>price</th>\n",
       "      <th>purchase_date</th>\n",
       "      <th>release_date</th>\n",
       "      <th>tags</th>\n",
       "      <th>total_negative_reviews</th>\n",
       "      <th>total_positive_reviews</th>\n",
       "    </tr>\n",
       "  </thead>\n",
       "  <tbody>\n",
       "    <tr>\n",
       "      <td>0</td>\n",
       "      <td>Single-player,Steam Trading Cards,Steam Cloud</td>\n",
       "      <td>Adventure,Casual,Indie</td>\n",
       "      <td>0</td>\n",
       "      <td>False</td>\n",
       "      <td>0.000000</td>\n",
       "      <td>3700.0</td>\n",
       "      <td>2018-08-01</td>\n",
       "      <td>2013-12-10</td>\n",
       "      <td>Indie,Adventure,Story Rich,Casual,Atmospheric,...</td>\n",
       "      <td>96.0</td>\n",
       "      <td>372.0</td>\n",
       "    </tr>\n",
       "    <tr>\n",
       "      <td>1</td>\n",
       "      <td>Single-player,Partial Controller Support</td>\n",
       "      <td>RPG</td>\n",
       "      <td>1</td>\n",
       "      <td>True</td>\n",
       "      <td>0.016667</td>\n",
       "      <td>0.0</td>\n",
       "      <td>2016-12-26</td>\n",
       "      <td>2015-08-12</td>\n",
       "      <td>Mod,Utilities,RPG,Game Development,Singleplaye...</td>\n",
       "      <td>0.0</td>\n",
       "      <td>23.0</td>\n",
       "    </tr>\n",
       "    <tr>\n",
       "      <td>2</td>\n",
       "      <td>Single-player,Full controller support,Steam Tr...</td>\n",
       "      <td>Adventure,Casual,Indie</td>\n",
       "      <td>2</td>\n",
       "      <td>False</td>\n",
       "      <td>0.000000</td>\n",
       "      <td>5000.0</td>\n",
       "      <td>2018-08-01</td>\n",
       "      <td>2014-01-28</td>\n",
       "      <td>Point &amp; Click,Adventure,Story Rich,Comedy,Indi...</td>\n",
       "      <td>663.0</td>\n",
       "      <td>3018.0</td>\n",
       "    </tr>\n",
       "    <tr>\n",
       "      <td>3</td>\n",
       "      <td>Single-player,Multi-player,Steam Achievements,...</td>\n",
       "      <td>Action,RPG</td>\n",
       "      <td>3</td>\n",
       "      <td>False</td>\n",
       "      <td>1.533333</td>\n",
       "      <td>9900.0</td>\n",
       "      <td>2016-12-28</td>\n",
       "      <td>2010-03-31</td>\n",
       "      <td>Medieval,RPG,Open World,Strategy,Sandbox,Actio...</td>\n",
       "      <td>1746.0</td>\n",
       "      <td>63078.0</td>\n",
       "    </tr>\n",
       "    <tr>\n",
       "      <td>4</td>\n",
       "      <td>Single-player,Co-op,Steam Achievements,Full co...</td>\n",
       "      <td>Action,Indie,Strategy</td>\n",
       "      <td>4</td>\n",
       "      <td>False</td>\n",
       "      <td>22.333333</td>\n",
       "      <td>4800.0</td>\n",
       "      <td>2018-04-03</td>\n",
       "      <td>2012-07-30</td>\n",
       "      <td>Tower Defense,Co-op,Action,Strategy,Online Co-...</td>\n",
       "      <td>523.0</td>\n",
       "      <td>8841.0</td>\n",
       "    </tr>\n",
       "  </tbody>\n",
       "</table>\n",
       "</div>"
      ],
      "text/plain": [
       "                                          categories                  genres  \\\n",
       "0      Single-player,Steam Trading Cards,Steam Cloud  Adventure,Casual,Indie   \n",
       "1           Single-player,Partial Controller Support                     RPG   \n",
       "2  Single-player,Full controller support,Steam Tr...  Adventure,Casual,Indie   \n",
       "3  Single-player,Multi-player,Steam Achievements,...              Action,RPG   \n",
       "4  Single-player,Co-op,Steam Achievements,Full co...   Action,Indie,Strategy   \n",
       "\n",
       "   id  is_free  playtime_forever   price purchase_date release_date  \\\n",
       "0   0    False          0.000000  3700.0    2018-08-01   2013-12-10   \n",
       "1   1     True          0.016667     0.0    2016-12-26   2015-08-12   \n",
       "2   2    False          0.000000  5000.0    2018-08-01   2014-01-28   \n",
       "3   3    False          1.533333  9900.0    2016-12-28   2010-03-31   \n",
       "4   4    False         22.333333  4800.0    2018-04-03   2012-07-30   \n",
       "\n",
       "                                                tags  total_negative_reviews  \\\n",
       "0  Indie,Adventure,Story Rich,Casual,Atmospheric,...                    96.0   \n",
       "1  Mod,Utilities,RPG,Game Development,Singleplaye...                     0.0   \n",
       "2  Point & Click,Adventure,Story Rich,Comedy,Indi...                   663.0   \n",
       "3  Medieval,RPG,Open World,Strategy,Sandbox,Actio...                  1746.0   \n",
       "4  Tower Defense,Co-op,Action,Strategy,Online Co-...                   523.0   \n",
       "\n",
       "   total_positive_reviews  \n",
       "0                   372.0  \n",
       "1                    23.0  \n",
       "2                  3018.0  \n",
       "3                 63078.0  \n",
       "4                  8841.0  "
      ]
     },
     "execution_count": 4,
     "metadata": {},
     "output_type": "execute_result"
    }
   ],
   "source": [
    "train = pd.read_csv(\"train.csv\")\n",
    "test = pd.read_csv(\"test.csv\")\n",
    "full = train.append( test , ignore_index = True ) \n",
    "full['purchase_date'] = pd.to_datetime(full['purchase_date'] )\n",
    "full['release_date'] = pd.to_datetime(full['release_date'] )\n",
    "full['purchase_date'] = full['purchase_date'].fillna(full['release_date'])+ timedelta(days=30)\n",
    "full['total_positive_reviews'].fillna((full['total_positive_reviews'].mean()), inplace=True)\n",
    "full['total_negative_reviews'].fillna((full['total_negative_reviews'].mean()), inplace=True)\n",
    "print(full.isnull().any())\n",
    "full.head(5)"
   ]
  },
  {
   "cell_type": "markdown",
   "metadata": {},
   "source": [
    "Mainly take insights into month and year of purchase and release date and one hot them."
   ]
  },
  {
   "cell_type": "code",
   "execution_count": 5,
   "metadata": {},
   "outputs": [],
   "source": [
    "date_test = pd.concat((full['purchase_date'],full['release_date']),axis=1)\n",
    "date_test['release_month'] = 0\n",
    "date_test['release_year'] = 0\n",
    "date_test['purchase_month'] = 0\n",
    "date_test['purchase_year'] = 0\n",
    "date_test['purchase_month'] = date_test['purchase_date'].map(lambda x: x.month)\n",
    "date_test['purchase_year'] = date_test['purchase_date'].map(lambda x: x.year)\n",
    "date_test['release_month'] = date_test['purchase_date'].map(lambda x: x.month)\n",
    "date_test['release_year'] = date_test['purchase_date'].map(lambda x: x.year)\n",
    "date_release_year = date_test['release_year']\n",
    "date_release_year = pd.get_dummies(date_release_year,prefix='release_year')\n",
    "date_release_year = date_release_year.drop(['release_year_2016'],axis=1)\n",
    "\n",
    "date_release_month = date_test['release_month']\n",
    "date_release_month = pd.get_dummies(date_test['release_month'],prefix='release_month')\n",
    "date_release_month = date_release_month.drop(['release_month_1'],axis=1)\n",
    "\n",
    "date_purchase_month = date_test['purchase_month']\n",
    "date_purchase_month = pd.get_dummies(date_test['purchase_month'],prefix='purchase_month')\n",
    "date_purchase_month = date_purchase_month.drop(['purchase_month_2'],axis=1)\n",
    "\n",
    "date_purchase_year = date_test['purchase_year']\n",
    "date_purchase_year = pd.get_dummies(date_test['purchase_year'],prefix='purchase_year')\n",
    "date_purchase_year = date_purchase_year.drop(['purchase_year_2015'],axis=1)"
   ]
  },
  {
   "cell_type": "markdown",
   "metadata": {},
   "source": [
    "Get the timestamp of purchase and release and use the minmax scaler to format the column for them.\n",
    "Get the time interval for scaling for reviews"
   ]
  },
  {
   "cell_type": "code",
   "execution_count": 9,
   "metadata": {},
   "outputs": [],
   "source": [
    "date_test['purchase_timestamp'] = date_test[\"purchase_date\"].values.astype(np.int64) // 10 ** 9\n",
    "date_test['release_timestamp'] = date_test[\"release_date\"].values.astype(np.int64) // 10 ** 9\n",
    "\n",
    "scaler = MinMaxScaler()\n",
    "date_test[['purchase_timestamp','release_timestamp']] = scaler.fit_transform(date_test[['purchase_timestamp','release_timestamp']])\n",
    "Timestamp = pd.DataFrame()\n",
    "Timestamp['purchase_timestamp'] = date_test['purchase_timestamp']\n",
    "Timestamp['release_timestamp'] = date_test['release_timestamp']\n",
    "date = pd.concat([date_purchase_year, date_purchase_month, date_release_year,date_release_month, Timestamp],axis=1)\n",
    "time_interval = date_test['release_date'].map(lambda x: 2020-x.year)"
   ]
  },
  {
   "cell_type": "markdown",
   "metadata": {},
   "source": [
    "Get dummy varaibles from Genres, Categories and Tags, using .str.get_dummies function and combine three of them into tags_corr."
   ]
  },
  {
   "cell_type": "code",
   "execution_count": 10,
   "metadata": {},
   "outputs": [],
   "source": [
    "Genres = pd.DataFrame()\n",
    "Genres['genres'] = full['genres']\n",
    "Genres = pd.concat([Genres.drop('genres', 1), Genres['genres'].str.get_dummies(sep=\",\")], 1)\n",
    "Categories = pd.DataFrame()\n",
    "Categories['categories'] = full['categories']\n",
    "Categories = pd.concat([Categories.drop('categories', 1), Categories['categories'].str.get_dummies(sep=\",\")], 1)\n",
    "Tags = pd.DataFrame()\n",
    "Tags['tags'] = full['tags']\n",
    "Tags = pd.concat([Tags.drop('tags', 1), Tags['tags'].str.get_dummies(sep=\",\")], 1)\n",
    "tags_corr = pd.concat([Genres,Categories,Tags],axis=1)"
   ]
  },
  {
   "cell_type": "markdown",
   "metadata": {},
   "source": [
    "Scale the positive and negative reviews and avoid zero values in log or division"
   ]
  },
  {
   "cell_type": "code",
   "execution_count": 12,
   "metadata": {},
   "outputs": [],
   "source": [
    "Total_positive_reviews = pd.DataFrame()\n",
    "Total_positive_reviews['total_positive_reviews'] = np.log((full[\"total_positive_reviews\"]+1)/time_interval)\n",
    "Total_negative_reviews = pd.DataFrame()\n",
    "Total_negative_reviews['total_negative_reviews'] = np.log((full[\"total_negative_reviews\"]+1)/time_interval)\n",
    "Price = pd.DataFrame()\n",
    "Price[\"price\"] = np.log(full[\"price\"]+1)"
   ]
  },
  {
   "cell_type": "markdown",
   "metadata": {},
   "source": [
    "Concat the dataframe for training"
   ]
  },
  {
   "cell_type": "code",
   "execution_count": 14,
   "metadata": {},
   "outputs": [],
   "source": [
    "full_XY = pd.concat( [ Price, tags_corr,date, Total_positive_reviews , Total_negative_reviews, full['playtime_forever'] ] , axis=1 )\n",
    "full_XY = full_XY.loc[:,~full_XY.columns.duplicated()]\n",
    "full_X = full_XY.loc[:,'price':'total_negative_reviews']\n",
    "full_train = full_XY[:357]\n",
    "full_test = full_XY[357:]\n",
    "\n",
    "train_X = full_train.loc[:,'price':'total_negative_reviews']\n",
    "train_y = full_train['playtime_forever']\n",
    "test_X = full_test.loc[:,'price':'total_negative_reviews']\n",
    "test_y = full_test['playtime_forever']"
   ]
  },
  {
   "cell_type": "markdown",
   "metadata": {},
   "source": [
    "Use xgboost and test the parameters untill we get the correct set of parameters shown below."
   ]
  },
  {
   "cell_type": "code",
   "execution_count": 16,
   "metadata": {},
   "outputs": [
    {
     "name": "stdout",
     "output_type": "stream",
     "text": [
      "Fitting 5 folds for each of 5 candidates, totalling 25 fits\n"
     ]
    },
    {
     "name": "stderr",
     "output_type": "stream",
     "text": [
      "[Parallel(n_jobs=4)]: Using backend LokyBackend with 4 concurrent workers.\n",
      "[Parallel(n_jobs=4)]: Done  25 out of  25 | elapsed:    5.3s finished\n"
     ]
    },
    {
     "name": "stdout",
     "output_type": "stream",
     "text": [
      "[21:48:46] WARNING: C:/Jenkins/workspace/xgboost-win64_release_0.90/src/objective/regression_obj.cu:152: reg:linear is now deprecated in favor of reg:squarederror.\n",
      "Lowest RMSE found:  9.742091120032217\n",
      "Best parameters found:  {'learning_rate': 0.1}\n",
      "90\n"
     ]
    },
    {
     "data": {
      "text/plain": [
       "array([1.9114041e-01, 5.1005874e+00, 2.9525858e-01, 0.0000000e+00,\n",
       "       5.5335937e+00, 3.0026004e-01, 1.1037109e+00, 3.0708432e-01,\n",
       "       1.5925955e+00, 9.3925595e-01, 4.0547237e-01, 0.0000000e+00,\n",
       "       1.4821249e+01, 5.9324324e-01, 1.1855027e+01, 1.3797539e-01,\n",
       "       7.9196483e-02, 3.4473461e-01, 2.9769585e-01, 7.3555410e-01,\n",
       "       7.0052373e-01, 1.4179189e+00, 8.2380950e-02, 1.8825224e-01,\n",
       "       0.0000000e+00, 3.3999416e-01, 2.7229318e-01, 4.4814977e-01,\n",
       "       1.3320761e+00, 2.7623296e+00, 8.2230687e-02, 1.9979580e+01,\n",
       "       1.1737049e-02, 2.3031825e-01, 2.5334847e+00, 2.1999091e-02,\n",
       "       3.0517325e+00, 1.7059301e+00, 1.2254424e+00, 0.0000000e+00,\n",
       "       8.6613619e-01, 4.8232132e-01, 7.4355063e+00, 2.5104228e-01,\n",
       "       5.2258396e-01, 1.1410849e+01, 0.0000000e+00, 4.8687470e-01,\n",
       "       1.7014444e-01, 9.6109667e+00, 1.7184952e-01, 2.6830858e-01,\n",
       "       2.3888052e-02, 7.9040372e-01, 2.8215439e+00, 3.2662004e-01,\n",
       "       2.0398779e+00, 2.5540531e-02, 2.6591623e-01, 9.8052394e-01,\n",
       "       5.4560905e+00, 5.7347856e+00, 3.5980371e-01, 1.7790733e+01,\n",
       "       1.5878719e-01, 3.1925046e-01, 3.0984929e-01, 3.7608323e-01,\n",
       "       2.5669861e+00, 7.5374913e-01, 2.8468779e-01, 1.4169208e+01,\n",
       "       2.4377427e+00, 2.5748039e+01, 2.3085776e-01, 1.7007053e+01,\n",
       "       2.7268975e+00, 2.5327132e+00, 8.6789602e-01, 1.1672814e+00,\n",
       "       2.5686562e+00, 3.1927013e-01, 2.5104228e-01, 8.5489826e+00,\n",
       "       7.8642201e-01, 0.0000000e+00, 1.4730374e+00, 2.5334039e+00,\n",
       "       5.9813720e-01, 1.1012510e+00], dtype=float32)"
      ]
     },
     "execution_count": 16,
     "metadata": {},
     "output_type": "execute_result"
    }
   ],
   "source": [
    "data_dmatrix = xgb.DMatrix(data=train_X,label=train_y)\n",
    "X_train, X_test, y_train, y_test = train_test_split(train_X, train_y, test_size=0.2, random_state=123)\n",
    "\n",
    "#16.4 This is the submission result\n",
    "from sklearn.model_selection import GridSearchCV\n",
    "cv_params = {'learning_rate': [0.095,0.098,0.1, 0.102,0.105]}\n",
    "other_params = {'learning_rate': 0.1, 'n_estimators': 39, 'max_depth': 8, 'min_child_weight': 2, 'seed': 0,\n",
    "                'subsample': 0.72, 'colsample_bytree': 0.78, 'gamma': 0.11, 'reg_alpha': 0.03, 'reg_lambda': 0.97}\n",
    "\n",
    "model = xgb.XGBRegressor(**other_params)\n",
    "optimized_GBM = GridSearchCV(estimator=model, param_grid=cv_params, scoring='neg_mean_squared_error', cv=5, verbose=1, n_jobs=4)\n",
    "optimized_GBM.fit(train_X, train_y)\n",
    "# evalute_result = optimized_GBM.grid_scores_\n",
    "# print('每轮迭代运行结果:{0}'.format(evalute_result))\n",
    "# print('参数的最佳取值：{0}'.format(optimized_GBM.best_params_))\n",
    "# print('最佳模型得分:{0}'.format(optimized_GBM.best_score_))\n",
    "print(\"Lowest RMSE found: \", np.sqrt(np.abs(optimized_GBM.best_score_)))\n",
    "print(\"Best parameters found: \",optimized_GBM.best_params_)\n",
    "\n",
    "a = optimized_GBM.predict(test_X)\n",
    "a[a<0] = 0\n",
    "print(len(a))\n",
    "a"
   ]
  },
  {
   "cell_type": "markdown",
   "metadata": {},
   "source": [
    "Save the result to Xgboost.csv"
   ]
  },
  {
   "cell_type": "code",
   "execution_count": 18,
   "metadata": {},
   "outputs": [],
   "source": [
    "submission = pd.DataFrame()\n",
    "submission['playtime_forever'] = a\n",
    "\n",
    "submission.index.name = 'id'\n",
    "\n",
    "submission.to_csv('Xgboost.csv')"
   ]
  }
 ],
 "metadata": {
  "kernelspec": {
   "display_name": "Python 3",
   "language": "python",
   "name": "python3"
  },
  "language_info": {
   "codemirror_mode": {
    "name": "ipython",
    "version": 3
   },
   "file_extension": ".py",
   "mimetype": "text/x-python",
   "name": "python",
   "nbconvert_exporter": "python",
   "pygments_lexer": "ipython3",
   "version": "3.7.4"
  }
 },
 "nbformat": 4,
 "nbformat_minor": 2
}
